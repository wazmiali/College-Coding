{
 "cells": [
  {
   "cell_type": "code",
   "execution_count": 1,
   "id": "38560791-3c05-46e3-aa34-9331e20a42d5",
   "metadata": {},
   "outputs": [
    {
     "name": "stdout",
     "output_type": "stream",
     "text": [
      "MemTotal:       16513336 kB\n",
      "MemFree:         8782916 kB\n",
      "HighTotal:             0 kB\n",
      "HighFree:              0 kB\n",
      "LowTotal:       16513336 kB\n",
      "LowFree:         8782916 kB\n",
      "SwapTotal:       1048576 kB\n",
      "SwapFree:         938152 kB\n"
     ]
    }
   ],
   "source": [
    "! cat /proc/meminfo"
   ]
  },
  {
   "cell_type": "code",
   "execution_count": 22,
   "id": "82e3af98-9760-4c40-a76d-9b48e9ed7c16",
   "metadata": {},
   "outputs": [
    {
     "name": "stdout",
     "output_type": "stream",
     "text": [
      "<class 'float'>\n"
     ]
    }
   ],
   "source": [
    "print (type(1.5))"
   ]
  },
  {
   "cell_type": "code",
   "execution_count": 11,
   "id": "44f019c9-50a6-4066-8743-ab0e00d70098",
   "metadata": {},
   "outputs": [
    {
     "name": "stdout",
     "output_type": "stream",
     "text": [
      "Null value in the dataframe\n"
     ]
    }
   ],
   "source": [
    "import pandas as pd\n",
    "\n",
    "df = pd.read_csv('creditcard.csv')\n",
    "df.head()\n",
    "print(\"Null value in the dataframe\")\n",
    "# df.isnull()\n",
    "# df.isnull().sum()\n",
    "# df.isnull()\n",
    "# df.isnull().any()\n",
    "# print(df.tail())"
   ]
  },
  {
   "cell_type": "code",
   "execution_count": null,
   "id": "1b8f9801-d837-4147-a902-3d74dab9cc4c",
   "metadata": {},
   "outputs": [],
   "source": []
  },
  {
   "cell_type": "code",
   "execution_count": 29,
   "id": "e7471ac8-f832-48ac-8057-cf85230bf56e",
   "metadata": {},
   "outputs": [
    {
     "name": "stdout",
     "output_type": "stream",
     "text": [
      "Iron, man\n"
     ]
    }
   ],
   "source": [
    "superhero = \"Iron, man\"\n",
    "print(superhero)"
   ]
  },
  {
   "cell_type": "code",
   "execution_count": 30,
   "id": "89822a05-b9b9-4713-85e3-b8f43112e4cf",
   "metadata": {},
   "outputs": [
    {
     "name": "stdin",
     "output_type": "stream",
     "text": [
      "Entre the value:  49\n",
      "Entre the value:  2\n"
     ]
    },
    {
     "name": "stdout",
     "output_type": "stream",
     "text": [
      "51\n"
     ]
    }
   ],
   "source": [
    "num1 = int(input(\"Entre the value: \"))\n",
    "num2 = int(input(\"Entre the value: \"))\n",
    "\n",
    "sum = num1 + num2\n",
    "print(sum)\n"
   ]
  },
  {
   "cell_type": "code",
   "execution_count": 1,
   "id": "75996094-08aa-4f80-9fc2-a06f162da9f3",
   "metadata": {},
   "outputs": [
    {
     "name": "stdout",
     "output_type": "stream",
     "text": [
      "50\n",
      "100\n",
      "150\n",
      "200\n"
     ]
    }
   ],
   "source": [
    "number = [50, 100, 150, 200]\n",
    "\n",
    "for i in number:\n",
    "    print(i)"
   ]
  },
  {
   "cell_type": "code",
   "execution_count": null,
   "id": "9eea978f-77cc-4669-8fa9-33a33e09dbe8",
   "metadata": {},
   "outputs": [],
   "source": [
    "i = 0\n",
    "\n",
    "while i< 10:\n",
    "    print(i)\n",
    "    i += 1\n",
    "    print(\"True\")"
   ]
  },
  {
   "cell_type": "code",
   "execution_count": 30,
   "id": "1a927641-73a4-4d2e-834a-971f38823397",
   "metadata": {},
   "outputs": [
    {
     "name": "stdin",
     "output_type": "stream",
     "text": [
      "Enter the number:  5\n"
     ]
    },
    {
     "name": "stdout",
     "output_type": "stream",
     "text": [
      "5 Fact 120\n"
     ]
    }
   ],
   "source": [
    "import math\n",
    "\n",
    "num = int(input(\"Enter the number: \"))\n",
    "\n",
    "factorial = math.factorial(num)\n",
    "\n",
    "print(num, \"Fact\", factorial)\n"
   ]
  },
  {
   "cell_type": "code",
   "execution_count": 4,
   "id": "914a2599-6652-4f2d-8c96-79309828c59d",
   "metadata": {},
   "outputs": [
    {
     "name": "stdin",
     "output_type": "stream",
     "text": [
      "Enter the number:  10\n"
     ]
    },
    {
     "name": "stdout",
     "output_type": "stream",
     "text": [
      "The factorial of given number is:  10 is 3628800\n"
     ]
    }
   ],
   "source": [
    "number = int(input(\"Enter the number: \"))\n",
    "\n",
    "factorial = 1\n",
    "\n",
    "if number == 0:\n",
    "    print(\"The factorial is 0 is 1\")\n",
    "\n",
    "else:\n",
    "    for i in range (1, number + 1):\n",
    "      factorial = factorial * i\n",
    "print('The factorial of given number is: ', number,'is', factorial)"
   ]
  },
  {
   "cell_type": "code",
   "execution_count": 30,
   "id": "d87eb351-4d18-452b-9084-e636ad46bb82",
   "metadata": {},
   "outputs": [],
   "source": [
    "# Factorial function\n",
    "\n",
    "def factorial_value(num):\n",
    "  factorial = 1\n",
    "\n",
    "  if num == 0:\n",
    "      return factorial\n",
    "\n",
    "  else:\n",
    "    for i in range (1, num+1):\n",
    "         factorial = factorial * i\n",
    "    return factorial        \n",
    "    "
   ]
  },
  {
   "cell_type": "code",
   "execution_count": 47,
   "id": "df54a0ea-c869-4ffa-a867-d9c7bf4c6991",
   "metadata": {},
   "outputs": [
    {
     "name": "stdout",
     "output_type": "stream",
     "text": [
      "720\n"
     ]
    }
   ],
   "source": [
    "print(factorial_value(6))"
   ]
  },
  {
   "cell_type": "code",
   "execution_count": 32,
   "id": "14d94826-205d-430b-8819-24c254ac915e",
   "metadata": {},
   "outputs": [
    {
     "name": "stdout",
     "output_type": "stream",
     "text": [
      "120\n"
     ]
    }
   ],
   "source": [
    "print(factorial_value(5))"
   ]
  },
  {
   "cell_type": "code",
   "execution_count": 5,
   "id": "5430be81-620a-4ea3-b658-9729de5e19f8",
   "metadata": {},
   "outputs": [],
   "source": [
    "import numpy as np"
   ]
  },
  {
   "cell_type": "code",
   "execution_count": 7,
   "id": "87aae473-947f-41b4-b624-24d034796d04",
   "metadata": {},
   "outputs": [],
   "source": [
    "# List vs Numpy - time takin \n",
    "from time import process_time \n",
    "\n",
    "#Time taken by a list "
   ]
  },
  {
   "cell_type": "code",
   "execution_count": 9,
   "id": "19320d2c-5414-4f97-a3d6-a9eb4fb519ea",
   "metadata": {},
   "outputs": [
    {
     "name": "stdout",
     "output_type": "stream",
     "text": [
      "0.0\n"
     ]
    }
   ],
   "source": [
    "python_list = [i for i in range(10000)] \n",
    "start_time = process_time()\n",
    "\n",
    "python_list = [i+5 for i in python_list]\n",
    "\n",
    "end_time = process_time()\n",
    "\n",
    "print(end_time - start_time)"
   ]
  },
  {
   "cell_type": "code",
   "execution_count": 13,
   "id": "1ce77802-fb37-4efd-9d1e-c9a9e6116717",
   "metadata": {},
   "outputs": [
    {
     "name": "stdout",
     "output_type": "stream",
     "text": [
      "0.0\n"
     ]
    }
   ],
   "source": [
    "np_array = np.array([i for i in range(10000)])\n",
    "\n",
    "start_time = process_time()\n",
    "\n",
    "np_array +- 5\n",
    "\n",
    "end_time = process_time()\n",
    "\n",
    "print(end_time - start_time)\n"
   ]
  },
  {
   "cell_type": "code",
   "execution_count": 14,
   "id": "f3f2aeb2-ac92-42a6-bef5-2b811c8307ba",
   "metadata": {},
   "outputs": [
    {
     "name": "stdout",
     "output_type": "stream",
     "text": [
      "[1, 2, 3, 4, 5]\n",
      "<class 'list'>\n"
     ]
    }
   ],
   "source": [
    "# Numpy Array\n",
    "\n",
    "list = [1,2,3,4,5]\n",
    "print(list)\n",
    "print(type(list))\n"
   ]
  },
  {
   "cell_type": "code",
   "execution_count": 32,
   "id": "9b05c71f-d5d2-4663-9d28-c1b539fcc32a",
   "metadata": {},
   "outputs": [
    {
     "name": "stdout",
     "output_type": "stream",
     "text": [
      "[1 2 3 4 5]\n"
     ]
    },
    {
     "data": {
      "text/plain": [
       "numpy.ndarray"
      ]
     },
     "execution_count": 32,
     "metadata": {},
     "output_type": "execute_result"
    }
   ],
   "source": [
    "np_array = np.array([1,2,3,4,5,])\n",
    "print(np_array)\n",
    "type(np_array)"
   ]
  },
  {
   "cell_type": "code",
   "execution_count": 33,
   "id": "6cd5d1b3-5c51-484f-9a95-560c5f7329cb",
   "metadata": {},
   "outputs": [
    {
     "name": "stdout",
     "output_type": "stream",
     "text": [
      "[[1 2 3 4]\n",
      " [5 6 7 8]]\n"
     ]
    }
   ],
   "source": [
    "b = np.array([(1,2,3,4),(5,6,7,8)])\n",
    "print(b)"
   ]
  },
  {
   "cell_type": "code",
   "execution_count": 34,
   "id": "0eb4f5e6-de95-4efb-ac2a-a1ef45dbfec4",
   "metadata": {},
   "outputs": [
    {
     "data": {
      "text/plain": [
       "(2, 4)"
      ]
     },
     "execution_count": 34,
     "metadata": {},
     "output_type": "execute_result"
    }
   ],
   "source": [
    "b.shape"
   ]
  },
  {
   "cell_type": "code",
   "execution_count": 36,
   "id": "64e89c82-30e6-40dc-820d-e82e538ab3f4",
   "metadata": {},
   "outputs": [
    {
     "name": "stdout",
     "output_type": "stream",
     "text": [
      "[[1. 2. 3. 4.]\n",
      " [5. 6. 7. 8.]]\n"
     ]
    }
   ],
   "source": [
    "c = np.array([(1,2,3,4),(5,6,7,8)],dtype=float)\n",
    "print(c)"
   ]
  },
  {
   "cell_type": "code",
   "execution_count": 38,
   "id": "6e709878-9dae-44eb-ac0d-6f8024c73dbf",
   "metadata": {},
   "outputs": [
    {
     "name": "stdout",
     "output_type": "stream",
     "text": [
      "[[0. 0. 0. 0. 0.]\n",
      " [0. 0. 0. 0. 0.]\n",
      " [0. 0. 0. 0. 0.]\n",
      " [0. 0. 0. 0. 0.]]\n"
     ]
    }
   ],
   "source": [
    "# initial Placeholder in numpy array \n",
    "# create a numpy array of zeros \n",
    "\n",
    "x = np.zeros((4,5))\n",
    "print(x)\n",
    "\n"
   ]
  },
  {
   "cell_type": "code",
   "execution_count": 42,
   "id": "8f45693e-1ff3-4f45-9d66-32cd731e80e6",
   "metadata": {},
   "outputs": [
    {
     "name": "stdout",
     "output_type": "stream",
     "text": [
      "[[1. 1. 1.]\n",
      " [1. 1. 1.]\n",
      " [1. 1. 1.]]\n"
     ]
    }
   ],
   "source": [
    "y = np.ones((3,3))\n",
    "print(y)"
   ]
  },
  {
   "cell_type": "code",
   "execution_count": 45,
   "id": "12919892-8b75-4bc6-b261-c3533472c96d",
   "metadata": {},
   "outputs": [
    {
     "name": "stdout",
     "output_type": "stream",
     "text": [
      "[[5 5 5 5]\n",
      " [5 5 5 5]\n",
      " [5 5 5 5]\n",
      " [5 5 5 5]\n",
      " [5 5 5 5]]\n"
     ]
    }
   ],
   "source": [
    "# array of a particular value\n",
    "z = np.full((5,4),5)\n",
    "print(z)"
   ]
  },
  {
   "cell_type": "code",
   "execution_count": 46,
   "id": "39329071-b41e-4c09-ab2e-9f0eb9650838",
   "metadata": {},
   "outputs": [
    {
     "name": "stdout",
     "output_type": "stream",
     "text": [
      "[[1. 0. 0. 0.]\n",
      " [0. 1. 0. 0.]\n",
      " [0. 0. 1. 0.]\n",
      " [0. 0. 0. 1.]]\n"
     ]
    }
   ],
   "source": [
    "# create an identity matrix\n",
    "a = np.eye(4)\n",
    "print(a)"
   ]
  },
  {
   "cell_type": "code",
   "execution_count": 47,
   "id": "c62f8d4b-4ea5-41ae-a03b-1f17d261ed88",
   "metadata": {},
   "outputs": [
    {
     "name": "stdout",
     "output_type": "stream",
     "text": [
      "[[0.48892005 0.73633221 0.58062295 0.70142824]\n",
      " [0.32376271 0.69046212 0.29312185 0.37610522]\n",
      " [0.49154622 0.17078892 0.28497199 0.96955536]]\n"
     ]
    }
   ],
   "source": [
    "# createa  numpy array with random value\n",
    "b = np.random.random((3,4))\n",
    "print(b)"
   ]
  },
  {
   "cell_type": "code",
   "execution_count": 48,
   "id": "9dfcddc5-02d1-4495-8b1f-d17c91ec6b77",
   "metadata": {},
   "outputs": [
    {
     "name": "stdout",
     "output_type": "stream",
     "text": [
      "[[83 16 65 77 53]\n",
      " [72 26 22 66 40]\n",
      " [30 28 38 25 62]]\n"
     ]
    }
   ],
   "source": [
    "# random interger values array with a specific range \n",
    "c = np.random.randint(10,100,(3,5))\n",
    "print(c)"
   ]
  },
  {
   "cell_type": "code",
   "execution_count": 55,
   "id": "ef4094f4-734b-49a9-82d6-793972a85972",
   "metadata": {},
   "outputs": [
    {
     "name": "stdout",
     "output_type": "stream",
     "text": [
      "[10. 14. 18. 22. 26. 30.]\n"
     ]
    }
   ],
   "source": [
    "# array of every spaced values  --> specifying the number of value required \n",
    "d = np.linspace(10,30,6)\n",
    "print(d)\n"
   ]
  },
  {
   "cell_type": "code",
   "execution_count": 57,
   "id": "8f533ef8-c3a8-4d9a-b7b1-b03406efdd88",
   "metadata": {},
   "outputs": [
    {
     "name": "stdout",
     "output_type": "stream",
     "text": [
      "[10 15 20 25]\n"
     ]
    }
   ],
   "source": [
    "#array of evelny space value  --> specifying the step\n",
    "\n",
    "e = np.arange(10,30,5)\n",
    "print(e)"
   ]
  },
  {
   "cell_type": "code",
   "execution_count": 58,
   "id": "98e49353-621b-4e82-9864-2847ead0a828",
   "metadata": {},
   "outputs": [
    {
     "name": "stdout",
     "output_type": "stream",
     "text": [
      "[10 20 30 40]\n"
     ]
    },
    {
     "data": {
      "text/plain": [
       "numpy.ndarray"
      ]
     },
     "execution_count": 58,
     "metadata": {},
     "output_type": "execute_result"
    }
   ],
   "source": [
    "# convert a list to array \n",
    "list2 = [10,20, 30, 40]\n",
    "\n",
    "np_array = np.asarray(list2)\n",
    "print(np_array)\n",
    "type(np_array)"
   ]
  },
  {
   "cell_type": "code",
   "execution_count": 59,
   "id": "2d6a15b0-e3aa-4b6a-a05e-736e7d77451f",
   "metadata": {},
   "outputs": [
    {
     "name": "stdout",
     "output_type": "stream",
     "text": [
      "[[18 10 76 32 57]\n",
      " [32 14 89 51 15]\n",
      " [54 24 13 29 33]\n",
      " [87 20 40 61 88]\n",
      " [67 60 16 56 34]]\n"
     ]
    }
   ],
   "source": [
    "# Analysing a numpy array \n",
    "\n",
    "c = np.random.randint(10,90,(5,5))\n",
    "print(c)"
   ]
  },
  {
   "cell_type": "code",
   "execution_count": 60,
   "id": "183f1ee3-b61d-41d1-866d-e1f0d520d251",
   "metadata": {},
   "outputs": [
    {
     "name": "stdout",
     "output_type": "stream",
     "text": [
      "(5, 5)\n"
     ]
    }
   ],
   "source": [
    "# Array dimension \n",
    "print(c.shape)"
   ]
  },
  {
   "cell_type": "code",
   "execution_count": 62,
   "id": "bae3df92-9353-40c0-83da-5c4ce59a4842",
   "metadata": {},
   "outputs": [
    {
     "name": "stdout",
     "output_type": "stream",
     "text": [
      "2\n"
     ]
    }
   ],
   "source": [
    "# number of dimension \n",
    "print(c.ndim)"
   ]
  },
  {
   "cell_type": "code",
   "execution_count": 63,
   "id": "11948c7f-288d-4169-9d8d-8e6168c794e9",
   "metadata": {},
   "outputs": [
    {
     "name": "stdout",
     "output_type": "stream",
     "text": [
      "25\n"
     ]
    }
   ],
   "source": [
    "# number of element in an array \n",
    "print(c.size)\n"
   ]
  },
  {
   "cell_type": "code",
   "execution_count": 65,
   "id": "4c6dd357-384d-4588-a7e1-345f8ab949e6",
   "metadata": {},
   "outputs": [
    {
     "name": "stdout",
     "output_type": "stream",
     "text": [
      "int32\n"
     ]
    }
   ],
   "source": [
    "# checking the data type in the value in the array \n",
    "print(c.dtype)"
   ]
  },
  {
   "cell_type": "code",
   "execution_count": 66,
   "id": "37e30f64-07ef-4d99-8f8a-3ce5517f37a7",
   "metadata": {},
   "outputs": [],
   "source": [
    "# Mathemitical operation on a np array"
   ]
  },
  {
   "cell_type": "code",
   "execution_count": 69,
   "id": "8656d79a-f0de-41b7-87c3-b732225a95dd",
   "metadata": {},
   "outputs": [
    {
     "name": "stdout",
     "output_type": "stream",
     "text": [
      "[1, 2, 3, 4, 5, 6, 7, 8, 9, 10]\n"
     ]
    }
   ],
   "source": [
    "list1 = [1,2,3,4,5]\n",
    "list2 = [6,7,8,9,10]\n",
    "\n",
    "print(list1 + list2) # concatenate or join two list \n"
   ]
  },
  {
   "cell_type": "code",
   "execution_count": 79,
   "id": "0163c02b-6f82-49d0-ba7e-387b63252d35",
   "metadata": {},
   "outputs": [
    {
     "name": "stdout",
     "output_type": "stream",
     "text": [
      "[[0 2 7]\n",
      " [8 2 4]\n",
      " [7 1 7]]\n",
      "[[13 17 16]\n",
      " [12 12 12]\n",
      " [18 10 10]]\n"
     ]
    }
   ],
   "source": [
    "a = np.random.randint(0,10,(3,3))\n",
    "b = np.random.randint(10,20,(3,3))\n",
    "print(a)\n",
    "print(b)"
   ]
  },
  {
   "cell_type": "code",
   "execution_count": 83,
   "id": "3c720a63-18b1-4843-adb5-41594c86f5e2",
   "metadata": {},
   "outputs": [
    {
     "name": "stdout",
     "output_type": "stream",
     "text": [
      "[[13 19 23]\n",
      " [20 14 16]\n",
      " [25 11 17]]\n",
      "[[-13 -15  -9]\n",
      " [ -4 -10  -8]\n",
      " [-11  -9  -3]]\n",
      "[[  0  34 112]\n",
      " [ 96  24  48]\n",
      " [126  10  70]]\n",
      "[[0.         0.11764706 0.4375    ]\n",
      " [0.66666667 0.16666667 0.33333333]\n",
      " [0.38888889 0.1        0.7       ]]\n"
     ]
    }
   ],
   "source": [
    "print(a+b)\n",
    "print(a-b)\n",
    "print(a*b)\n",
    "print(a/b)"
   ]
  },
  {
   "cell_type": "code",
   "execution_count": 84,
   "id": "ebdcd8a9-d5d9-45a6-a56e-9b3f5afabfc6",
   "metadata": {},
   "outputs": [],
   "source": [
    "a = np.random.randint(0,10,(3,3))\n",
    "b = np.random.randint(10,20,(3,3))"
   ]
  },
  {
   "cell_type": "code",
   "execution_count": 86,
   "id": "778ddf71-116a-47c8-81df-744bba1a71fa",
   "metadata": {},
   "outputs": [
    {
     "name": "stdout",
     "output_type": "stream",
     "text": [
      "[[4 0 3]\n",
      " [6 5 3]\n",
      " [0 4 2]]\n",
      "[[19 11 12]\n",
      " [18 13 14]\n",
      " [11 16 17]]\n"
     ]
    }
   ],
   "source": [
    "print(a)\n",
    "print(b)"
   ]
  },
  {
   "cell_type": "code",
   "execution_count": 88,
   "id": "f49a5946-d69d-4538-801a-bcd8209d924e",
   "metadata": {},
   "outputs": [
    {
     "name": "stdout",
     "output_type": "stream",
     "text": [
      "[[23 11 15]\n",
      " [24 18 17]\n",
      " [11 20 19]]\n",
      "[[-15 -11  -9]\n",
      " [-12  -8 -11]\n",
      " [-11 -12 -15]]\n",
      "[[ 76   0  36]\n",
      " [108  65  42]\n",
      " [  0  64  34]]\n",
      "[[0.21052632 0.         0.25      ]\n",
      " [0.33333333 0.38461538 0.21428571]\n",
      " [0.         0.25       0.11764706]]\n"
     ]
    }
   ],
   "source": [
    "print(np.add(a,b))\n",
    "print(np.subtract(a,b))\n",
    "print(np.multiply(a,b))\n",
    "print(np.divide(a,b))\n"
   ]
  },
  {
   "cell_type": "code",
   "execution_count": 89,
   "id": "dbc7a660-7540-456c-8512-4c30dd5ca790",
   "metadata": {},
   "outputs": [],
   "source": [
    "# Array Manuplations "
   ]
  },
  {
   "cell_type": "code",
   "execution_count": 91,
   "id": "83ba051d-e0ec-4427-b8ef-c3accb9ea8f0",
   "metadata": {},
   "outputs": [
    {
     "name": "stdout",
     "output_type": "stream",
     "text": [
      "[[2 3 0]\n",
      " [0 2 6]]\n",
      "(2, 3)\n"
     ]
    }
   ],
   "source": [
    "array = np.random.randint(0,10,(2,3))\n",
    "print(array)\n",
    "print(array.shape)"
   ]
  },
  {
   "cell_type": "code",
   "execution_count": 93,
   "id": "0ec5dd68-677c-46e5-9b0e-798e0f2fc3de",
   "metadata": {},
   "outputs": [
    {
     "name": "stdout",
     "output_type": "stream",
     "text": [
      "[[2 0]\n",
      " [3 2]\n",
      " [0 6]]\n",
      "(3, 2)\n"
     ]
    }
   ],
   "source": [
    "# transpose \n",
    "trans = np.transpose(array)\n",
    "print(trans)\n",
    "print(trans.shape)"
   ]
  },
  {
   "cell_type": "code",
   "execution_count": 95,
   "id": "e4bd24a5-0a52-47bd-bb4c-571b2b91f227",
   "metadata": {},
   "outputs": [
    {
     "name": "stdout",
     "output_type": "stream",
     "text": [
      "[[3 3 9]\n",
      " [1 9 7]]\n",
      "(2, 3)\n"
     ]
    }
   ],
   "source": [
    "array = np.random.randint(0,10,(2,3))\n",
    "print(array)\n",
    "print(array.shape)"
   ]
  },
  {
   "cell_type": "code",
   "execution_count": 97,
   "id": "a4442f50-6c30-4691-ad4b-e666fabba8fc",
   "metadata": {},
   "outputs": [
    {
     "name": "stdout",
     "output_type": "stream",
     "text": [
      "[[2 0]\n",
      " [3 2]\n",
      " [0 6]]\n",
      "(3, 2)\n"
     ]
    }
   ],
   "source": [
    " trans2 = array.T\n",
    "print(trans)\n",
    "print(trans2.shape)"
   ]
  },
  {
   "cell_type": "code",
   "execution_count": 99,
   "id": "183bdc69-98c7-48cf-85c0-daecb71a2ce6",
   "metadata": {},
   "outputs": [
    {
     "name": "stdout",
     "output_type": "stream",
     "text": [
      "[[9 9 3]\n",
      " [6 5 9]]\n",
      "(2, 3)\n"
     ]
    }
   ],
   "source": [
    "# reshaping a array \n",
    "a = np.random.randint(0,10,(2,3))\n",
    "print(a)\n",
    "print(a.shape)"
   ]
  },
  {
   "cell_type": "code",
   "execution_count": 101,
   "id": "e6a3de26-793e-4909-8a72-891d5014fb29",
   "metadata": {},
   "outputs": [
    {
     "name": "stdout",
     "output_type": "stream",
     "text": [
      "[[9 9]\n",
      " [3 6]\n",
      " [5 9]]\n",
      "(3, 2)\n"
     ]
    }
   ],
   "source": [
    "b = a.reshape(3,2)\n",
    "print(b)\n",
    "print(b.shape)"
   ]
  },
  {
   "cell_type": "code",
   "execution_count": null,
   "id": "f8812541-0d42-43bf-9e4d-8ccf1b640564",
   "metadata": {},
   "outputs": [],
   "source": []
  }
 ],
 "metadata": {
  "kernelspec": {
   "display_name": "Python 3 (ipykernel)",
   "language": "python",
   "name": "python3"
  },
  "language_info": {
   "codemirror_mode": {
    "name": "ipython",
    "version": 3
   },
   "file_extension": ".py",
   "mimetype": "text/x-python",
   "name": "python",
   "nbconvert_exporter": "python",
   "pygments_lexer": "ipython3",
   "version": "3.12.4"
  }
 },
 "nbformat": 4,
 "nbformat_minor": 5
}
