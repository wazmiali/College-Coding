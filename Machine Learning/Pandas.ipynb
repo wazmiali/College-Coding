{
 "cells": [
  {
   "cell_type": "code",
   "execution_count": 2,
   "id": "302ea866-b611-489b-b757-bdb44ff59129",
   "metadata": {},
   "outputs": [],
   "source": [
    "# importing the pandas library \n",
    "import pandas as pd"
   ]
  },
  {
   "cell_type": "code",
   "execution_count": 3,
   "id": "58f782cf-c270-4eba-b73f-53768eafeb46",
   "metadata": {},
   "outputs": [],
   "source": [
    "# Creating a Pandas DataFrame"
   ]
  },
  {
   "cell_type": "code",
   "execution_count": null,
   "id": "19806691-3c92-43f3-a9e3-2b765623b375",
   "metadata": {},
   "outputs": [],
   "source": [
    "# import the boston house price data set \n",
    "\n",
    "import pandas as pd\n",
    "\n",
    "from sklearn.datasets import load_boston\n",
    "\n",
    "boston_dataset = load_boston()\n",
    "\n",
    "type(boston_dataset)\n"
   ]
  },
  {
   "cell_type": "code",
   "execution_count": null,
   "id": "52c72b06-4e0d-48e2-90d5-1eb08efd0865",
   "metadata": {},
   "outputs": [],
   "source": [
    "from sklearn.datasets import fetch_california_housing\n",
    "import pandas as pd\n",
    "\n",
    "housing = fetch_california_housing()\n",
    "df = pd.DataFrame(housing.data, columns=housing.feature_names)\n",
    "df['Target'] = housing.target\n",
    "\n",
    "print(df.head())\n"
   ]
  },
  {
   "cell_type": "code",
   "execution_count": null,
   "id": "8eb979da-b39d-4104-a945-02a2cb27700d",
   "metadata": {},
   "outputs": [],
   "source": [
    "import pandas as pd\n",
    "\n",
    "df = pd.read_csv('diabetes.csv')\n",
    "print(df)"
   ]
  }
 ],
 "metadata": {
  "kernelspec": {
   "display_name": "Python 3 (ipykernel)",
   "language": "python",
   "name": "python3"
  },
  "language_info": {
   "codemirror_mode": {
    "name": "ipython",
    "version": 3
   },
   "file_extension": ".py",
   "mimetype": "text/x-python",
   "name": "python",
   "nbconvert_exporter": "python",
   "pygments_lexer": "ipython3",
   "version": "3.12.4"
  }
 },
 "nbformat": 4,
 "nbformat_minor": 5
}
