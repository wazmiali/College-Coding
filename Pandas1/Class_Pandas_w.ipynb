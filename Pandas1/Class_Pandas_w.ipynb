{
 "cells": [
  {
   "cell_type": "code",
   "execution_count": 1,
   "id": "7f6f4541-0075-478f-a2b5-a5fb60a28b87",
   "metadata": {},
   "outputs": [
    {
     "name": "stdout",
     "output_type": "stream",
     "text": [
      "      Price   Age       KM FuelType   HP  MetColor  Automatic    CC  Doors  \\\n",
      "0     13500  23.0  46986.0   Diesel   90       1.0          0  2000  three   \n",
      "1     13750  23.0  72937.0   Diesel   90       1.0          0  2000      3   \n",
      "2     13950  24.0  41711.0   Diesel   90       NaN          0  2000      3   \n",
      "3     14950  26.0  48000.0   Diesel   90       0.0          0  2000      3   \n",
      "4     13750  30.0  38500.0   Diesel   90       0.0          0  2000      3   \n",
      "...     ...   ...      ...      ...  ...       ...        ...   ...    ...   \n",
      "1431   7500   NaN  20544.0   Petrol   86       1.0          0  1300      3   \n",
      "1432  10845  72.0      NaN   Petrol   86       0.0          0  1300      3   \n",
      "1433   8500   NaN  17016.0   Petrol   86       0.0          0  1300      3   \n",
      "1434   7250  70.0      NaN      NaN   86       1.0          0  1300      3   \n",
      "1435   6950  76.0      1.0   Petrol  110       0.0          0  1600      5   \n",
      "\n",
      "      Weight  \n",
      "0       1165  \n",
      "1       1165  \n",
      "2       1165  \n",
      "3       1165  \n",
      "4       1170  \n",
      "...      ...  \n",
      "1431    1025  \n",
      "1432    1015  \n",
      "1433    1015  \n",
      "1434    1015  \n",
      "1435    1114  \n",
      "\n",
      "[1436 rows x 10 columns]\n"
     ]
    }
   ],
   "source": [
    "import pandas as pd \n",
    "import numpy as np\n",
    "\n",
    "data = pd.read_csv(\"Toyota.csv\", index_col=0, na_values=[\"??\"])\n",
    "print(data)"
   ]
  },
  {
   "cell_type": "code",
   "execution_count": 2,
   "id": "f3116cef-2e8b-4d2d-a692-2e2a238723b6",
   "metadata": {},
   "outputs": [
    {
     "name": "stdout",
     "output_type": "stream",
     "text": [
      "Price          int64\n",
      "Age          float64\n",
      "KM           float64\n",
      "FuelType      object\n",
      "HP            object\n",
      "MetColor     float64\n",
      "Automatic      int64\n",
      "CC             int64\n",
      "Doors         object\n",
      "Weight         int64\n",
      "dtype: object\n"
     ]
    }
   ],
   "source": [
    "#Print the data type of data\n",
    "print(data.dtypes)"
   ]
  },
  {
   "cell_type": "code",
   "execution_count": 7,
   "id": "97b0cd03-e64b-4f6b-bfbb-999584e3d62f",
   "metadata": {},
   "outputs": [
    {
     "name": "stdout",
     "output_type": "stream",
     "text": [
      "<class 'pandas.core.frame.DataFrame'>\n",
      "Index: 1436 entries, 0 to 1435\n",
      "Data columns (total 10 columns):\n",
      " #   Column     Non-Null Count  Dtype  \n",
      "---  ------     --------------  -----  \n",
      " 0   Price      1436 non-null   int64  \n",
      " 1   Age        1336 non-null   float64\n",
      " 2   KM         1421 non-null   float64\n",
      " 3   FuelType   1336 non-null   object \n",
      " 4   HP         1436 non-null   object \n",
      " 5   MetColor   1286 non-null   float64\n",
      " 6   Automatic  1436 non-null   int64  \n",
      " 7   CC         1436 non-null   int64  \n",
      " 8   Doors      1436 non-null   object \n",
      " 9   Weight     1436 non-null   int64  \n",
      "dtypes: float64(3), int64(4), object(3)\n",
      "memory usage: 123.4+ KB\n",
      "None\n"
     ]
    }
   ],
   "source": [
    "# check the data info value are non-null\n",
    "print(data.info())"
   ]
  },
  {
   "cell_type": "code",
   "execution_count": 8,
   "id": "ff5e76f1-24d9-4124-a4ce-f0ff00f4434a",
   "metadata": {},
   "outputs": [
    {
     "name": "stdout",
     "output_type": "stream",
     "text": [
      "[1.0000e+00 1.5000e+01 2.2500e+02 ... 2.3294e+05 2.4300e+05        nan]\n"
     ]
    }
   ],
   "source": [
    "# Display the unique value in column 'KM'\n",
    "# print(\"************************\")\n",
    "null_values = np.unique(data[\"KM\"])\n",
    "print(null_values)"
   ]
  },
  {
   "cell_type": "code",
   "execution_count": 9,
   "id": "8df53325-2165-49b4-91dc-8200201b01d8",
   "metadata": {},
   "outputs": [
    {
     "name": "stdout",
     "output_type": "stream",
     "text": [
      "['2' '3' '4' '5' 'five' 'four' 'three']\n"
     ]
    }
   ],
   "source": [
    "# Replace the value\n",
    "# print(\"********************Before************\")\n",
    "print(np.unique(data[\"Doors\"]))\n",
    "# print(\"********************Before Replace************\")"
   ]
  },
  {
   "cell_type": "code",
   "execution_count": 11,
   "id": "cdb9cd9f-30a0-414f-b11a-7b2a9c63ead4",
   "metadata": {},
   "outputs": [
    {
     "name": "stderr",
     "output_type": "stream",
     "text": [
      "C:\\Users\\Acer\\AppData\\Local\\Temp\\ipykernel_5420\\1235259281.py:1: FutureWarning: A value is trying to be set on a copy of a DataFrame or Series through chained assignment using an inplace method.\n",
      "The behavior will change in pandas 3.0. This inplace method will never work because the intermediate object on which we are setting values always behaves as a copy.\n",
      "\n",
      "For example, when doing 'df[col].method(value, inplace=True)', try using 'df.method({col: value}, inplace=True)' or df[col] = df[col].method(value) instead, to perform the operation inplace on the original object.\n",
      "\n",
      "\n",
      "  data[\"Doors\"].replace(\"three\", \"3\", inplace=True)\n"
     ]
    }
   ],
   "source": [
    "# data[\"Doors\"].replace(\"three\", \"3\", inplace=True)\n",
    "# data[\"Doors\"].replace(\"four\", \"4\", inplace=True)\n",
    "# data[\"Doors\"].replace(\"five\", \"5\", inplace=True)"
   ]
  },
  {
   "cell_type": "code",
   "execution_count": 12,
   "id": "0dfb0fd8-8454-4a13-be9e-78c038f8106a",
   "metadata": {},
   "outputs": [
    {
     "name": "stdout",
     "output_type": "stream",
     "text": [
      "['2' '3' '4' '5']\n"
     ]
    }
   ],
   "source": [
    "# print(\"********************After replace************\")\n",
    "print(np.unique(data[\"Doors\"]))"
   ]
  },
  {
   "cell_type": "code",
   "execution_count": 16,
   "id": "445fa1c6-223c-4ab6-bf0c-206fb1276604",
   "metadata": {},
   "outputs": [
    {
     "name": "stdout",
     "output_type": "stream",
     "text": [
      "      Price   Age       KM FuelType   HP  MetColor  Automatic    CC Doors  \\\n",
      "0     13500  23.0  46986.0   Diesel   90       1.0          0  2000     3   \n",
      "1     13750  23.0  72937.0   Diesel   90       1.0          0  2000     3   \n",
      "2     13950  24.0  41711.0   Diesel   90       NaN          0  2000     3   \n",
      "3     14950  26.0  48000.0   Diesel   90       0.0          0  2000     3   \n",
      "4     13750  30.0  38500.0   Diesel   90       0.0          0  2000     3   \n",
      "...     ...   ...      ...      ...  ...       ...        ...   ...   ...   \n",
      "1431   7500   NaN  20544.0   Petrol   86       1.0          0  1300     3   \n",
      "1432  10845  72.0      NaN   Petrol   86       0.0          0  1300     3   \n",
      "1433   8500   NaN  17016.0   Petrol   86       0.0          0  1300     3   \n",
      "1434   7250  70.0      NaN      NaN   86       1.0          0  1300     3   \n",
      "1435   6950  76.0      1.0   Petrol  110       0.0          0  1600     5   \n",
      "\n",
      "      Weight Price_Class  \n",
      "0       1165           0  \n",
      "1       1165           0  \n",
      "2       1165           0  \n",
      "3       1165           0  \n",
      "4       1170           0  \n",
      "...      ...         ...  \n",
      "1431    1025           0  \n",
      "1432    1015           0  \n",
      "1433    1015           0  \n",
      "1434    1015           0  \n",
      "1435    1114           0  \n",
      "\n",
      "[1436 rows x 11 columns]\n"
     ]
    },
    {
     "ename": "KeyError",
     "evalue": "'Price_class'",
     "output_type": "error",
     "traceback": [
      "\u001b[1;31m---------------------------------------------------------------------------\u001b[0m",
      "\u001b[1;31mKeyError\u001b[0m                                  Traceback (most recent call last)",
      "File \u001b[1;32mC:\\ProgramData\\anaconda3\\Lib\\site-packages\\pandas\\core\\indexes\\base.py:3805\u001b[0m, in \u001b[0;36mIndex.get_loc\u001b[1;34m(self, key)\u001b[0m\n\u001b[0;32m   3804\u001b[0m \u001b[38;5;28;01mtry\u001b[39;00m:\n\u001b[1;32m-> 3805\u001b[0m     \u001b[38;5;28;01mreturn\u001b[39;00m \u001b[38;5;28mself\u001b[39m\u001b[38;5;241m.\u001b[39m_engine\u001b[38;5;241m.\u001b[39mget_loc(casted_key)\n\u001b[0;32m   3806\u001b[0m \u001b[38;5;28;01mexcept\u001b[39;00m \u001b[38;5;167;01mKeyError\u001b[39;00m \u001b[38;5;28;01mas\u001b[39;00m err:\n",
      "File \u001b[1;32mindex.pyx:167\u001b[0m, in \u001b[0;36mpandas._libs.index.IndexEngine.get_loc\u001b[1;34m()\u001b[0m\n",
      "File \u001b[1;32mindex.pyx:196\u001b[0m, in \u001b[0;36mpandas._libs.index.IndexEngine.get_loc\u001b[1;34m()\u001b[0m\n",
      "File \u001b[1;32mpandas\\\\_libs\\\\hashtable_class_helper.pxi:7081\u001b[0m, in \u001b[0;36mpandas._libs.hashtable.PyObjectHashTable.get_item\u001b[1;34m()\u001b[0m\n",
      "File \u001b[1;32mpandas\\\\_libs\\\\hashtable_class_helper.pxi:7089\u001b[0m, in \u001b[0;36mpandas._libs.hashtable.PyObjectHashTable.get_item\u001b[1;34m()\u001b[0m\n",
      "\u001b[1;31mKeyError\u001b[0m: 'Price_class'",
      "\nThe above exception was the direct cause of the following exception:\n",
      "\u001b[1;31mKeyError\u001b[0m                                  Traceback (most recent call last)",
      "Cell \u001b[1;32mIn[16], line 11\u001b[0m\n\u001b[0;32m      9\u001b[0m       data_copy[\u001b[38;5;124m\"\u001b[39m\u001b[38;5;124mPrice_class\u001b[39m\u001b[38;5;124m\"\u001b[39m][i] \u001b[38;5;241m=\u001b[39m \u001b[38;5;124m\"\u001b[39m\u001b[38;5;124mLow\u001b[39m\u001b[38;5;124m\"\u001b[39m\n\u001b[0;32m     10\u001b[0m \u001b[38;5;28;01melif\u001b[39;00m data_copy[\u001b[38;5;124m\"\u001b[39m\u001b[38;5;124mPrice\u001b[39m\u001b[38;5;124m\"\u001b[39m][i] \u001b[38;5;241m>\u001b[39m \u001b[38;5;241m11950\u001b[39m:\n\u001b[1;32m---> 11\u001b[0m       data_copy[\u001b[38;5;124m\"\u001b[39m\u001b[38;5;124mPrice_class\u001b[39m\u001b[38;5;124m\"\u001b[39m][i] \u001b[38;5;241m=\u001b[39m \u001b[38;5;124m\"\u001b[39m\u001b[38;5;124mHigh\u001b[39m\u001b[38;5;124m\"\u001b[39m\n\u001b[0;32m     12\u001b[0m \u001b[38;5;28;01melse\u001b[39;00m:\n\u001b[0;32m     13\u001b[0m       data_copy[\u001b[38;5;124m\"\u001b[39m\u001b[38;5;124mPrice_class\u001b[39m\u001b[38;5;124m\"\u001b[39m][i] \u001b[38;5;241m=\u001b[39m \u001b[38;5;124m\"\u001b[39m\u001b[38;5;124mMedium\u001b[39m\u001b[38;5;124m\"\u001b[39m\n",
      "File \u001b[1;32mC:\\ProgramData\\anaconda3\\Lib\\site-packages\\pandas\\core\\frame.py:4102\u001b[0m, in \u001b[0;36mDataFrame.__getitem__\u001b[1;34m(self, key)\u001b[0m\n\u001b[0;32m   4100\u001b[0m \u001b[38;5;28;01mif\u001b[39;00m \u001b[38;5;28mself\u001b[39m\u001b[38;5;241m.\u001b[39mcolumns\u001b[38;5;241m.\u001b[39mnlevels \u001b[38;5;241m>\u001b[39m \u001b[38;5;241m1\u001b[39m:\n\u001b[0;32m   4101\u001b[0m     \u001b[38;5;28;01mreturn\u001b[39;00m \u001b[38;5;28mself\u001b[39m\u001b[38;5;241m.\u001b[39m_getitem_multilevel(key)\n\u001b[1;32m-> 4102\u001b[0m indexer \u001b[38;5;241m=\u001b[39m \u001b[38;5;28mself\u001b[39m\u001b[38;5;241m.\u001b[39mcolumns\u001b[38;5;241m.\u001b[39mget_loc(key)\n\u001b[0;32m   4103\u001b[0m \u001b[38;5;28;01mif\u001b[39;00m is_integer(indexer):\n\u001b[0;32m   4104\u001b[0m     indexer \u001b[38;5;241m=\u001b[39m [indexer]\n",
      "File \u001b[1;32mC:\\ProgramData\\anaconda3\\Lib\\site-packages\\pandas\\core\\indexes\\base.py:3812\u001b[0m, in \u001b[0;36mIndex.get_loc\u001b[1;34m(self, key)\u001b[0m\n\u001b[0;32m   3807\u001b[0m     \u001b[38;5;28;01mif\u001b[39;00m \u001b[38;5;28misinstance\u001b[39m(casted_key, \u001b[38;5;28mslice\u001b[39m) \u001b[38;5;129;01mor\u001b[39;00m (\n\u001b[0;32m   3808\u001b[0m         \u001b[38;5;28misinstance\u001b[39m(casted_key, abc\u001b[38;5;241m.\u001b[39mIterable)\n\u001b[0;32m   3809\u001b[0m         \u001b[38;5;129;01mand\u001b[39;00m \u001b[38;5;28many\u001b[39m(\u001b[38;5;28misinstance\u001b[39m(x, \u001b[38;5;28mslice\u001b[39m) \u001b[38;5;28;01mfor\u001b[39;00m x \u001b[38;5;129;01min\u001b[39;00m casted_key)\n\u001b[0;32m   3810\u001b[0m     ):\n\u001b[0;32m   3811\u001b[0m         \u001b[38;5;28;01mraise\u001b[39;00m InvalidIndexError(key)\n\u001b[1;32m-> 3812\u001b[0m     \u001b[38;5;28;01mraise\u001b[39;00m \u001b[38;5;167;01mKeyError\u001b[39;00m(key) \u001b[38;5;28;01mfrom\u001b[39;00m \u001b[38;5;21;01merr\u001b[39;00m\n\u001b[0;32m   3813\u001b[0m \u001b[38;5;28;01mexcept\u001b[39;00m \u001b[38;5;167;01mTypeError\u001b[39;00m:\n\u001b[0;32m   3814\u001b[0m     \u001b[38;5;66;03m# If we have a listlike key, _check_indexing_error will raise\u001b[39;00m\n\u001b[0;32m   3815\u001b[0m     \u001b[38;5;66;03m#  InvalidIndexError. Otherwise we fall through and re-raise\u001b[39;00m\n\u001b[0;32m   3816\u001b[0m     \u001b[38;5;66;03m#  the TypeError.\u001b[39;00m\n\u001b[0;32m   3817\u001b[0m     \u001b[38;5;28mself\u001b[39m\u001b[38;5;241m.\u001b[39m_check_indexing_error(key)\n",
      "\u001b[1;31mKeyError\u001b[0m: 'Price_class'"
     ]
    }
   ],
   "source": [
    "# Create a data copy\n",
    "data_copy = data.copy()\n",
    "\n",
    "data_copy.insert(10, \"Price_Class\", \"0\")\n",
    "print(data_copy)\n",
    "\n",
    "for i in range(len(data_copy[\"Price\"])):\n",
    "      if data_copy[\"Price\"][i] <= 8450:\n",
    "            data_copy[\"Price_class\"][i] = \"Low\"\n",
    "      elif data_copy[\"Price\"][i] > 11950:\n",
    "            data_copy[\"Price_class\"][i] = \"High\"\n",
    "      else:\n",
    "            data_copy[\"Price_class\"][i] = \"Medium\"\n",
    "\n",
    "      print(data_copy)"
   ]
  },
  {
   "cell_type": "code",
   "execution_count": null,
   "id": "cc53d182-3230-4af7-813b-afbde087648a",
   "metadata": {},
   "outputs": [],
   "source": []
  },
  {
   "cell_type": "code",
   "execution_count": null,
   "id": "40ba43e1-37ef-4575-8716-063bac20a0d3",
   "metadata": {},
   "outputs": [],
   "source": []
  }
 ],
 "metadata": {
  "kernelspec": {
   "display_name": "Python 3 (ipykernel)",
   "language": "python",
   "name": "python3"
  },
  "language_info": {
   "codemirror_mode": {
    "name": "ipython",
    "version": 3
   },
   "file_extension": ".py",
   "mimetype": "text/x-python",
   "name": "python",
   "nbconvert_exporter": "python",
   "pygments_lexer": "ipython3",
   "version": "3.12.4"
  }
 },
 "nbformat": 4,
 "nbformat_minor": 5
}
