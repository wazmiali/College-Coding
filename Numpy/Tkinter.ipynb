{
 "cells": [
  {
   "cell_type": "code",
   "execution_count": 1,
   "id": "d5b40263-4e05-428b-a613-49d842b311aa",
   "metadata": {},
   "outputs": [],
   "source": [
    "from tkinter import*\n",
    "window = Tk()\n",
    "window.title(\"Welcome AIML\")\n",
    "window.minsize(width=50,height=300)"
   ]
  },
  {
   "cell_type": "code",
   "execution_count": 4,
   "id": "2d342330-c59a-4cc7-90d2-9960c0d143a9",
   "metadata": {},
   "outputs": [],
   "source": [
    "#label\n",
    "label = Label(text=\"This is Label\")\n",
    "# label.config()\n",
    "\n",
    "label.pack()\n",
    "#button\n",
    "def action():\n",
    "      print(\"This is a Button\")\n",
    "\n",
    "button = Button(text=\"chick Here\")\n",
    "button.pack()\n",
    "\n",
    "#Entry\n",
    "\n",
    "entry = Entry(width=30)\n",
    "entry.pack()\n",
    "\n",
    "#text\n",
    "text = Text(height=5,width=30)\n",
    "text.pack()\n",
    "\n",
    "#Spinbox\n",
    "spinbox = Spinbox(from_=-2,to=5,width=5)\n",
    "spinbox.pack()\n",
    "\n",
    "#scale\n",
    "scale = Scale(from_=0,to=100,width=20)\n",
    "scale.pack()\n",
    "\n",
    "#CheckButton \n",
    "checkbutton = Checkbutton(text=\"Check\")\n",
    "checkbutton.pack()\n",
    "\n",
    "#Radiobutton\n",
    "radiobutton1 = Radiobutton(text=\"Option1\", value=1)\n",
    "radiobutton2 = Radiobutton(text=\"Option2\", value=1)\n",
    "\n",
    "radiobutton1.pack()\n",
    "radiobutton2.pack()\n",
    "\n",
    "#Listbox\n",
    "listbox = Listbox(height=4)\n",
    "fruits = [\"Apple\", \"Pear\", \"Orange\", \"Banana\"]\n",
    "for item in fruits:\n",
    "      listbox.insert(fruits.index(item),item)\n",
    "      listbox.pack()\n",
    "\n",
    "window.mainloop()"
   ]
  },
  {
   "cell_type": "code",
   "execution_count": null,
   "id": "5aa57da3-eecd-48d6-8216-bea943bfb9e5",
   "metadata": {},
   "outputs": [],
   "source": []
  },
  {
   "cell_type": "code",
   "execution_count": null,
   "id": "5c15b6fc-6a20-4e5e-8271-bf20596aa632",
   "metadata": {},
   "outputs": [],
   "source": []
  },
  {
   "cell_type": "code",
   "execution_count": null,
   "id": "d516d505-7ca7-433f-aa17-166f26411105",
   "metadata": {},
   "outputs": [],
   "source": []
  },
  {
   "cell_type": "code",
   "execution_count": null,
   "id": "b649e521-5106-451f-8d04-e79aa3cf62b8",
   "metadata": {},
   "outputs": [],
   "source": []
  },
  {
   "cell_type": "code",
   "execution_count": null,
   "id": "74aa6cf1-de9e-4601-9e68-3a8541885689",
   "metadata": {},
   "outputs": [],
   "source": []
  },
  {
   "cell_type": "code",
   "execution_count": null,
   "id": "c24bbc71-9a8f-42f9-9a76-076912f8020a",
   "metadata": {},
   "outputs": [],
   "source": []
  },
  {
   "cell_type": "code",
   "execution_count": null,
   "id": "a459be23-8f84-4e51-83d3-6e044935f8ea",
   "metadata": {},
   "outputs": [],
   "source": []
  },
  {
   "cell_type": "code",
   "execution_count": null,
   "id": "102b8b90-ccbd-4a39-ba89-ff3c1833e6c4",
   "metadata": {},
   "outputs": [],
   "source": []
  }
 ],
 "metadata": {
  "kernelspec": {
   "display_name": "Python 3 (ipykernel)",
   "language": "python",
   "name": "python3"
  },
  "language_info": {
   "codemirror_mode": {
    "name": "ipython",
    "version": 3
   },
   "file_extension": ".py",
   "mimetype": "text/x-python",
   "name": "python",
   "nbconvert_exporter": "python",
   "pygments_lexer": "ipython3",
   "version": "3.12.4"
  }
 },
 "nbformat": 4,
 "nbformat_minor": 5
}
