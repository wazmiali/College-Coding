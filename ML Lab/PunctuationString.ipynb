{
 "cells": [
  {
   "cell_type": "code",
   "execution_count": 5,
   "id": "a24bc645-3d4b-4116-9702-7d6911371a94",
   "metadata": {},
   "outputs": [
    {
     "name": "stdin",
     "output_type": "stream",
     "text": [
      "Enter any string with Punctuations:  GL Bajaj.............??\n"
     ]
    },
    {
     "name": "stdout",
     "output_type": "stream",
     "text": [
      "\n",
      " Original String:  GL Bajaj.............??\n",
      "Punctuation considered !\"#$%&'()*+,-./:;<=>?@[\\]^_`{|}~\n",
      "\n",
      " string without punctuation:  GL Bajaj\n"
     ]
    }
   ],
   "source": [
    "# 3. Write a program to remove the punctuation use a string.\n",
    "\n",
    "import string\n",
    "\n",
    "text = input(\"Enter any string with Punctuations: \")\n",
    "print(\"\\n Original String: \", text)\n",
    "\n",
    "punctuation = string.punctuation\n",
    "print(\"Punctuation considered\", punctuation)\n",
    "\n",
    "cleaned_text = \"\".join(char for char in text if char not in punctuation)\n",
    "print(\"\\n string without punctuation: \", cleaned_text)"
   ]
  },
  {
   "cell_type": "code",
   "execution_count": 14,
   "id": "4066a292-25fe-4dd7-b74b-fe9444963922",
   "metadata": {},
   "outputs": [
    {
     "name": "stdin",
     "output_type": "stream",
     "text": [
      "Enter a sentence:  I am not go to the college\n"
     ]
    },
    {
     "name": "stdout",
     "output_type": "stream",
     "text": [
      "\n",
      " Original Sentence:  I am not go to the college\n",
      "Sorted Sentence:  am college go I not the to\n"
     ]
    }
   ],
   "source": [
    "#4. Write a python program to sort the sentance in alphabetical order \n",
    "sentence = input(\"Enter a sentence: \")\n",
    "words = sentence.split() \n",
    "sorted_words = sorted(words, key=lambda x: x.lower())\n",
    "sorted_sentence = \" \".join(sorted_words)\n",
    "\n",
    "print(\"\\n Original Sentence: \", sentence)\n",
    "print(\"Sorted Sentence: \", sorted_sentence)"
   ]
  },
  {
   "cell_type": "code",
   "execution_count": null,
   "id": "b16c7d4b-5f95-4f98-b1eb-6763bfb5c4b9",
   "metadata": {},
   "outputs": [],
   "source": [
    "import nltk \n",
    "from nltk.corpus import stopwords\n",
    "from nltk.tokenize import word_tokenize\n",
    "\n",
    "nltk.download('punkt')\n",
    "nltk.download('punkt_tab')\n",
    "nltk.download('stopwords')\n",
    "\n",
    "passage = input(\"Enter the string: \")\n",
    "print(\"\\n Original String: \", passage)\n",
    "\n",
    "words = word_tokenize(passages)\n",
    "stop_words = set(stopwords.words('english'))\n",
    "filter_words = [word for word in words if word.lower() not in stop_words]\n",
    "cleaned_passage = \" \".join(filter_words)\n",
    "\n",
    "print(\"\\n Passage after removing stop words: \\n\", cleaned_passage)"
   ]
  },
  {
   "cell_type": "code",
   "execution_count": null,
   "id": "95a7b41c-5aaa-4373-89c2-e3b05ff7e765",
   "metadata": {},
   "outputs": [],
   "source": []
  }
 ],
 "metadata": {
  "kernelspec": {
   "display_name": "Python 3 (ipykernel)",
   "language": "python",
   "name": "python3"
  },
  "language_info": {
   "codemirror_mode": {
    "name": "ipython",
    "version": 3
   },
   "file_extension": ".py",
   "mimetype": "text/x-python",
   "name": "python",
   "nbconvert_exporter": "python",
   "pygments_lexer": "ipython3",
   "version": "3.12.4"
  }
 },
 "nbformat": 4,
 "nbformat_minor": 5
}
